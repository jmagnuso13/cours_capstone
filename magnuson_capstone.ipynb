{
 "cells": [
  {
   "cell_type": "markdown",
   "metadata": {},
   "source": [
    "## Final Project Overview\n",
    "### Opportunity Statement\n",
    "\n",
    "The Covid pandemic resulted in a greatly renewed interest in nature & outdoor activities, due to safety issues and restrictions placed on typical indoor attractions in urban areas. \n",
    "\n",
    "The Google Trends data below shows the enormous spike in searches for \"Outdoor Activities\" in the US in 2020 compared to the preceeding 5 years.\n",
    "\n",
    "![title](trendsplot.png)\n",
    "\n",
    "While one can assume some return closer to pre-pandemic baselines once the pandemic is addressed, interest in outdoor-oriented vacations/remote work can reasonably be expected to remain at a higer level than they were pre-pandemic.  \n",
    "\n",
    "This project will attempt to assist an investor attempting to take advantage of this renewed interest in outdoor experience, by identifying smaller rural cities and towns with an abundance of outdoor activity.\n",
    "\n",
    "My datasets will leverage the [Foursquare Places API](https://developer.foursquare.com/docs/places-api/) to identify outdoor places and the [Zillow Home Values Forecast (City Admin Level)](https://www.zillow.com/research/data/) to identify home values in these areas.  \n",
    "\n",
    "I will then cluster the data using K-Means Clustering to identify ideal markets for a potential investment into a vacation rental home."
   ]
  }
 ],
 "metadata": {
  "kernelspec": {
   "display_name": "Python 3",
   "language": "python",
   "name": "python3"
  },
  "language_info": {
   "codemirror_mode": {
    "name": "ipython",
    "version": 3
   },
   "file_extension": ".py",
   "mimetype": "text/x-python",
   "name": "python",
   "nbconvert_exporter": "python",
   "pygments_lexer": "ipython3",
   "version": "3.8.3"
  }
 },
 "nbformat": 4,
 "nbformat_minor": 4
}
